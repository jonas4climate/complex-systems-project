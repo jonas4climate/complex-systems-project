{
 "cells": [
  {
   "cell_type": "markdown",
   "metadata": {},
   "source": [
    "# Opinion Formation"
   ]
  },
  {
   "cell_type": "markdown",
   "metadata": {},
   "source": [
    "### Imports"
   ]
  },
  {
   "cell_type": "code",
   "execution_count": 211,
   "metadata": {},
   "outputs": [],
   "source": [
    "import numpy as np\n",
    "import random\n",
    "import math\n",
    "import os\n",
    "import scipy as sp\n",
    "import cellpylib as cpl\n",
    "import matplotlib as mpl\n",
    "import matplotlib.pyplot as plt\n",
    "import matplotlib.animation as animation\n",
    "import demos.ca.CA_module as ca\n",
    "#from demos.ca.CA_module import CA\n",
    "\n",
    "# For cluster counting\n",
    "from pylab import *\n",
    "from scipy.ndimage import measurements\n",
    "\n",
    "import powerlaw\n"
   ]
  },
  {
   "cell_type": "markdown",
   "metadata": {},
   "source": [
    "## Move all results we want to keep here"
   ]
  },
  {
   "cell_type": "code",
   "execution_count": null,
   "metadata": {},
   "outputs": [],
   "source": []
  },
  {
   "cell_type": "markdown",
   "metadata": {},
   "source": [
    "## Generate new results here"
   ]
  },
  {
   "cell_type": "markdown",
   "metadata": {},
   "source": []
  },
  {
   "cell_type": "markdown",
   "metadata": {},
   "source": [
    "## SOC Hypothesis\n",
    "Hypothesis: When the system is at its critical temperature, the observed cluster sizes and durations will follow a power law distribution"
   ]
  },
  {
   "cell_type": "code",
   "execution_count": 212,
   "metadata": {},
   "outputs": [],
   "source": [
    "# Step 0 - Find the critical temperature of the system\n",
    "## Empirically (like shown in critical_temperature.py) or\n",
    "## Analitically, using the approximations referenced in the CA paper\n",
    "# Done in threshold_plot!!!\n",
    "\n",
    "# Step 1 - Set the system to the critical temperature\n",
    "critical_temperature = 50\n",
    "\n",
    "# Step 2 - Set system to the parameters used to find the critical temperature\n",
    "GRIDSIZE_X,GRIDSIZE_Y = 21,21\n",
    "TIMESTEPS = 500\n",
    "#TEMPERATURE = 0\n",
    "BETA_PEOPLE = 1\n",
    "BETA_LEADER = 1\n",
    "H = 0\n",
    "p = 1\n",
    "p_1 = 0.5 # In this scenario everybody believed the leader at start for calibration, but here in simulation we dont need it anymore!!!\n",
    "\n",
    "INFLUENCE_LEADER = 100             # The one \n",
    "a_0 = 1\n",
    "INFLUENCE_DISTRIBUTION_MEAN = 1"
   ]
  },
  {
   "cell_type": "code",
   "execution_count": 213,
   "metadata": {},
   "outputs": [
    {
     "name": "stderr",
     "output_type": "stream",
     "text": [
      "100%|██████████| 499/499 [01:30<00:00,  5.51it/s]\n"
     ]
    }
   ],
   "source": [
    "# Step 3 - Simulate system at this critical temperature\n",
    "temperature = critical_temperature\n",
    "model = ca.CA(GRIDSIZE_X, GRIDSIZE_Y, temperature, BETA_LEADER, BETA_PEOPLE, H, p, p_1, INFLUENCE_LEADER, INFLUENCE_DISTRIBUTION_MEAN, ca.euclidean_distance, ca.prob_dist_influence_people)\n",
    "data = model.evolve(TIMESTEPS)"
   ]
  },
  {
   "cell_type": "code",
   "execution_count": 214,
   "metadata": {},
   "outputs": [],
   "source": [
    "# Make a copy to avoid overwriting the data\n",
    "data_copy = data.copy()"
   ]
  },
  {
   "cell_type": "code",
   "execution_count": 218,
   "metadata": {},
   "outputs": [
    {
     "data": {
      "image/png": "[encoded data removed]",
      "text/plain": [
       "<Figure size 600x600 with 1 Axes>"
      ]
     },
     "metadata": {},
     "output_type": "display_data"
    }
   ],
   "source": [
    "# Step 4 - Plot opinion change to see if clusters do form\n",
    "#model.plot_opinion_grid_at_time_t(data_copy,5) # This creates a video in the folder figures!\n",
    "model.plot_opinion_grid_evolution(data_copy,save=True)"
   ]
  },
  {
   "cell_type": "code",
   "execution_count": 192,
   "metadata": {},
   "outputs": [
    {
     "name": "stdout",
     "output_type": "stream",
     "text": [
      "[[0. 0. 0. 0. 0. 0. 0. 0. 0. 0. 0. 0. 0. 0. 0. 0. 0. 0. 0. 0. 0.]\n",
      " [0. 0. 0. 0. 0. 1. 0. 0. 0. 0. 0. 1. 0. 0. 1. 0. 0. 0. 0. 0. 0.]\n",
      " [0. 0. 0. 0. 1. 0. 0. 0. 1. 0. 0. 0. 0. 1. 0. 0. 0. 0. 0. 0. 0.]\n",
      " [0. 0. 0. 1. 0. 0. 0. 0. 0. 0. 0. 0. 0. 0. 0. 0. 0. 0. 0. 0. 0.]\n",
      " [0. 0. 0. 0. 0. 0. 0. 0. 0. 0. 0. 0. 0. 1. 1. 0. 0. 0. 0. 0. 0.]\n",
      " [0. 0. 0. 0. 0. 0. 0. 0. 0. 0. 0. 1. 0. 0. 0. 0. 0. 0. 0. 0. 0.]\n",
      " [0. 0. 0. 0. 0. 0. 0. 0. 0. 0. 0. 0. 0. 0. 0. 0. 0. 1. 0. 0. 0.]\n",
      " [0. 0. 0. 0. 0. 0. 1. 0. 0. 0. 0. 0. 0. 0. 0. 0. 0. 0. 0. 0. 0.]\n",
      " [0. 0. 0. 0. 0. 1. 0. 0. 0. 0. 0. 1. 0. 0. 0. 0. 0. 0. 0. 1. 1.]\n",
      " [0. 1. 1. 0. 0. 0. 0. 0. 0. 0. 0. 0. 0. 0. 0. 0. 0. 0. 0. 0. 0.]\n",
      " [0. 0. 0. 0. 0. 0. 0. 0. 0. 0. 0. 0. 0. 0. 0. 0. 1. 0. 0. 0. 0.]\n",
      " [0. 0. 0. 0. 0. 0. 0. 0. 0. 0. 0. 0. 0. 0. 0. 1. 0. 0. 0. 0. 0.]\n",
      " [0. 0. 0. 0. 1. 0. 0. 0. 0. 0. 0. 1. 0. 0. 0. 0. 0. 0. 0. 0. 0.]\n",
      " [0. 0. 0. 0. 1. 1. 0. 0. 0. 0. 0. 0. 0. 0. 0. 0. 0. 0. 0. 0. 0.]\n",
      " [0. 0. 0. 1. 0. 0. 0. 0. 0. 0. 0. 0. 0. 0. 0. 0. 0. 0. 0. 0. 0.]\n",
      " [0. 0. 0. 0. 0. 0. 0. 0. 0. 0. 0. 0. 0. 0. 0. 0. 0. 0. 0. 0. 0.]\n",
      " [0. 0. 0. 0. 0. 0. 0. 0. 0. 0. 0. 0. 0. 0. 0. 1. 0. 0. 1. 0. 0.]\n",
      " [0. 0. 0. 0. 0. 0. 0. 1. 0. 0. 0. 0. 0. 0. 0. 0. 0. 0. 0. 0. 0.]\n",
      " [0. 0. 0. 0. 0. 0. 0. 0. 1. 0. 0. 0. 0. 0. 0. 0. 0. 0. 0. 0. 0.]\n",
      " [0. 0. 0. 0. 0. 0. 0. 0. 0. 0. 0. 0. 0. 0. 0. 1. 0. 0. 0. 0. 0.]\n",
      " [0. 0. 0. 0. 0. 0. 0. 0. 0. 0. 0. 0. 0. 0. 0. 0. 0. 0. 0. 0. 0.]]\n"
     ]
    }
   ],
   "source": [
    "opinions = data_copy['opinions'][5].copy()\n",
    "opinions[opinions == 1] = 0\n",
    "opinions[opinions == -1] = 1\n",
    "print(opinions)"
   ]
  },
  {
   "cell_type": "code",
   "execution_count": 193,
   "metadata": {},
   "outputs": [
    {
     "name": "stdout",
     "output_type": "stream",
     "text": [
      "Unique values and counts [0. 1. 2. 3.] [ 1 21  3  1]\n"
     ]
    },
    {
     "name": "stderr",
     "output_type": "stream",
     "text": [
      "C:\\Users\\Pablo\\AppData\\Local\\Temp\\ipykernel_16276\\969967811.py:5: DeprecationWarning: Please use `label` from the `scipy.ndimage` namespace, the `scipy.ndimage.measurements` namespace is deprecated.\n",
      "  lw, num_cluster = measurements.label(opinions)\n",
      "C:\\Users\\Pablo\\AppData\\Local\\Temp\\ipykernel_16276\\969967811.py:6: DeprecationWarning: Please use `sum` from the `scipy.ndimage` namespace, the `scipy.ndimage.measurements` namespace is deprecated.\n",
      "  areas = measurements.sum(opinions, lw, index=arange(lw.max() + 1))\n"
     ]
    }
   ],
   "source": [
    "# Step 5 - Get cluster sizes from simulation\n",
    "R = int(GRIDSIZE_X/2)\n",
    "\n",
    "# To feed it to the function we first turn the 1s into 0s and the -1s into 1s\n",
    "lw, num_cluster = measurements.label(opinions)\n",
    "areas = measurements.sum(opinions, lw, index=arange(lw.max() + 1))\n",
    "unique, counts = np.unique(areas, return_counts=True)\n",
    "\n",
    "#print(lw,num_cluster)\n",
    "#print('Areas',areas)\n",
    "\n",
    "print('Unique values and counts',unique,counts)\n",
    "\n",
    "\n",
    "# MVP: Count connected individuals with same opinion\n",
    "# https://stackoverflow.com/questions/25664682/how-to-find-cluster-sizes-in-2d-numpy-array\n",
    "# TODO: Count actual grid sizes\n"
   ]
  },
  {
   "cell_type": "code",
   "execution_count": 217,
   "metadata": {},
   "outputs": [
    {
     "data": {
      "text/plain": [
       "<matplotlib.collections.PathCollection at 0x10c4b111660>"
      ]
     },
     "execution_count": 217,
     "metadata": {},
     "output_type": "execute_result"
    },
    {
     "data": {
      "image/png": "[encoded data removed]",
      "text/plain": [
       "<Figure size 640x480 with 1 Axes>"
      ]
     },
     "metadata": {},
     "output_type": "display_data"
    }
   ],
   "source": [
    "# Step 6 - Plot them to see if their sizes follow power law\n",
    "plt.scatter(unique,counts,facecolors='none', edgecolors='blue')"
   ]
  },
  {
   "cell_type": "code",
   "execution_count": null,
   "metadata": {},
   "outputs": [],
   "source": [
    "# Step 7 - Verify it with the package powerlaw"
   ]
  },
  {
   "cell_type": "code",
   "execution_count": 216,
   "metadata": {},
   "outputs": [
    {
     "name": "stderr",
     "output_type": "stream",
     "text": [
      "C:\\Users\\Pablo\\AppData\\Local\\Temp\\ipykernel_16276\\447378525.py:15: DeprecationWarning: Please use `label` from the `scipy.ndimage` namespace, the `scipy.ndimage.measurements` namespace is deprecated.\n",
      "  lw, num_cluster = measurements.label(data_t)\n",
      "C:\\Users\\Pablo\\AppData\\Local\\Temp\\ipykernel_16276\\447378525.py:16: DeprecationWarning: Please use `sum` from the `scipy.ndimage` namespace, the `scipy.ndimage.measurements` namespace is deprecated.\n",
      "  areas = measurements.sum(data_t, lw, index=arange(lw.max() + 1))\n"
     ]
    },
    {
     "name": "stdout",
     "output_type": "stream",
     "text": [
      "<powerlaw.Fit object at 0x0000010C49D8B160>\n",
      "alpha=  2.077727186988969   sigma=  0.057689413686609306\n"
     ]
    },
    {
     "data": {
      "image/png": "[encoded data removed]",
      "text/plain": [
       "<Figure size 640x480 with 1 Axes>"
      ]
     },
     "metadata": {},
     "output_type": "display_data"
    }
   ],
   "source": [
    "# Same thing but with entire simulation\n",
    "data_copy = data.copy()\n",
    "sim_data = data_copy.copy()\n",
    "\n",
    "total_unique = np.linspace(1,model.N,model.N)\n",
    "total_counts = np.zeros(model.N).astype(int)\n",
    "\n",
    "#print('Total counts',total_counts)\n",
    "\n",
    "for time_step in range(TIMESTEPS):\n",
    "    data_t = sim_data['opinions'][time_step, :, :].copy()\n",
    "    data_t[data_t == 1] = 0\n",
    "    data_t[data_t == -1] = 1\n",
    "\n",
    "    lw, num_cluster = measurements.label(data_t)\n",
    "    areas = measurements.sum(data_t, lw, index=arange(lw.max() + 1))\n",
    "    unique, counts = np.unique(areas, return_counts=True)\n",
    "\n",
    "    unique = unique.astype(int)\n",
    "    counts = counts.astype(int)\n",
    "\n",
    "    # Update the total_counts at those locations\n",
    "    #np.take(total_counts, unique)\n",
    "    # https://numpy.org/doc/stable/reference/generated/numpy.put.html\n",
    "    np.put(total_counts,unique,np.take(total_counts, unique) + counts) # Should be counts+previous value\n",
    "\n",
    "    #np.place(total_counts, unique, counts)\n",
    "\n",
    "    #print(unique, counts)\n",
    "    #print(total_counts)\n",
    "\n",
    "    # Add counts of every unique value\n",
    "    #for index in unique:\n",
    "\n",
    "        #print('Unique',int(index))\n",
    "        #print('Test',total_counts[int(index)])\n",
    "        #print('Test2',counts[int(index)])\n",
    "\n",
    "        #total_counts[int(index)] += counts[int(index)]\n",
    "\n",
    "\n",
    "    #plt.scatter(unique,counts,facecolors='none', edgecolors='blue')\n",
    "    #print(unique,counts)\n",
    "\n",
    "#print(total_counts)\n",
    "\n",
    "\n",
    "d=total_counts\n",
    "fit = powerlaw.Fit(np.array(d)+1,xmin=1,discrete=True)\n",
    "fit.power_law.plot_pdf( color= 'b',linestyle='--',label='fit ccdf')\n",
    "fit.plot_pdf( color= 'b')\n",
    "\n",
    "print(fit)\n",
    "\n",
    "print('alpha= ',fit.power_law.alpha,'  sigma= ',fit.power_law.sigma)\n",
    "\n",
    "#plt.scatter(total_unique,total_counts,facecolors='none', edgecolors='blue')\n",
    "\n",
    "# Sum them!!!\n",
    "\n",
    "#plt.xlabel('Connected nodes')\n",
    "#plt.ylabel('Frequency')\n",
    "\n",
    "\n",
    "#R = int(GRIDSIZE_X/2)\n",
    "# To feed it to the function we first turn the 1s into 0s and the -1s into 1s\n",
    "#print(lw,num_cluster)\n",
    "#print('Areas',areas)\n",
    "\n",
    "#print('Unique values and counts',unique,counts)"
   ]
  },
  {
   "cell_type": "code",
   "execution_count": 210,
   "metadata": {},
   "outputs": [
    {
     "name": "stdout",
     "output_type": "stream",
     "text": [
      "[ 200 2108  325  100   33   13    4    5    0    1    3    0    1    0\n",
      "    0    0    0    0    0    0    0    0    1    0    0    0    0    0\n",
      "    0    0    0    0    0    0    0    0    0    0    0    0    1    0\n",
      "    0    0    0    0    0    0    0    0    0    0    1    0    0    0\n",
      "    0    0    0    0    0    0    0    0    0    0    0    0    0    0\n",
      "    0    0    0    0    0    0    0    0    0    0    0    0    0    0\n",
      "    0    0    0    0    0    0    0    0    0    0    0    0    0    0\n",
      "    0    0    0    0    0    0    0    0    0    0    0    0    0    0\n",
      "    0    0    0    0    0    0    0    0    0    0    0    0    0    0\n",
      "    0    0    0    0    0    0    0    0    0    0    0    0    0    0\n",
      "    0    0    0    0    0    0    0    0    0    0    0    0    0    0\n",
      "    0    0    0    0    0    0    0    0    0    0    0    0    0    0\n",
      "    0    0    0    0    0    0    0    0    1    0    0    0    0    0\n",
      "    0    0    0    0    0    0    0    0    0    0    0    0    0    0\n",
      "    0    0    0    0    0    0    0    0    0    0    0    0    0    0\n",
      "    0    0    0    0    0    0    0    0    0    0    0    0    0    0\n",
      "    0    0    0    0    0    0    0    0    0    0    0    0    0    0\n",
      "    0    0    0    0    0    0    0    0    0    0    0    0    0    0\n",
      "    0    0    0    0    0    0    0    0    0    0    0    0    0    0\n",
      "    0    0    0    0    0    0    0    0    0    0    0    0    0    0\n",
      "    0    0    0    0    0    0    0    0    0    0    0    0    1    0\n",
      "    0    0    0    1    1    2    0    1    0    4    3    3    2    2\n",
      "    5    3    6    6    4    4    1   11    4    7    6    5    4    3\n",
      "    2    4    4    2    5    2    0    0    0    0    0    0    0    0\n",
      "    0    0    0    0    0    0    0    0    0    0    0    0    0]\n"
     ]
    },
    {
     "data": {
      "image/png": "[encoded data removed]",
      "text/plain": [
       "<Figure size 640x480 with 1 Axes>"
      ]
     },
     "metadata": {},
     "output_type": "display_data"
    }
   ],
   "source": [
    "plt.loglog(total_unique,total_counts)\n",
    "\n",
    "print(total_counts)"
   ]
  },
  {
   "cell_type": "markdown",
   "metadata": {},
   "source": [
    "### Test the hypothesis now for cluster sizes\n",
    "For this we need to change our code such that instead of counting clusters of connected nodes, we also ensure they have circular shape!"
   ]
  },
  {
   "cell_type": "code",
   "execution_count": null,
   "metadata": {},
   "outputs": [],
   "source": []
  }
 ],
 "metadata": {
  "kernelspec": {
   "display_name": "css-project",
   "language": "python",
   "name": "python3"
  },
  "language_info": {
   "codemirror_mode": {
    "name": "ipython",
    "version": 3
   },
   "file_extension": ".py",
   "mimetype": "text/x-python",
   "name": "python",
   "nbconvert_exporter": "python",
   "pygments_lexer": "ipython3",
   "version": "3.10.6"
  }
 },
 "nbformat": 4,
 "nbformat_minor": 2
}
