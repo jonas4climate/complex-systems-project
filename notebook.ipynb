{
 "cells": [
  {
   "cell_type": "markdown",
   "metadata": {},
   "source": [
    "# Emerging patterns of opinion formation in social structures\n",
    "## Complex System Simulation\n",
    "### Group 3 \n",
    "\n",
    "Jonas Schafer\n",
    "\n",
    "Chayenne Olumuyiwa\n",
    "\n",
    "Mingjie Li\n",
    "\n",
    "Pablo Alves\n",
    "\n",
    "---"
   ]
  },
  {
   "cell_type": "markdown",
   "metadata": {},
   "source": [
    "## Imports"
   ]
  },
  {
   "cell_type": "code",
   "execution_count": 11,
   "metadata": {},
   "outputs": [
    {
     "ename": "ModuleNotFoundError",
     "evalue": "No module named 'powerlaw'",
     "output_type": "error",
     "traceback": [
      "\u001b[0;31m---------------------------------------------------------------------------\u001b[0m",
      "\u001b[0;31mModuleNotFoundError\u001b[0m                       Traceback (most recent call last)",
      "Cell \u001b[0;32mIn[11], line 6\u001b[0m\n\u001b[1;32m      4\u001b[0m \u001b[38;5;28;01mimport\u001b[39;00m \u001b[38;5;21;01mos\u001b[39;00m\n\u001b[1;32m      5\u001b[0m \u001b[38;5;28;01mimport\u001b[39;00m \u001b[38;5;21;01mcsv\u001b[39;00m\n\u001b[0;32m----> 6\u001b[0m \u001b[38;5;28;01mimport\u001b[39;00m \u001b[38;5;21;01mpowerlaw\u001b[39;00m\n\u001b[1;32m      7\u001b[0m \u001b[38;5;28;01mimport\u001b[39;00m \u001b[38;5;21;01mscipy\u001b[39;00m \u001b[38;5;28;01mas\u001b[39;00m \u001b[38;5;21;01msp\u001b[39;00m\n\u001b[1;32m      8\u001b[0m \u001b[38;5;28;01mimport\u001b[39;00m \u001b[38;5;21;01mcellpylib\u001b[39;00m \u001b[38;5;28;01mas\u001b[39;00m \u001b[38;5;21;01mcpl\u001b[39;00m\n",
      "\u001b[0;31mModuleNotFoundError\u001b[0m: No module named 'powerlaw'"
     ]
    }
   ],
   "source": [
    "import numpy as np\n",
    "import random\n",
    "import math\n",
    "import os\n",
    "import csv\n",
    "import powerlaw\n",
    "import scipy as sp\n",
    "import cellpylib as cpl\n",
    "import matplotlib as mpl\n",
    "import matplotlib.pyplot as plt\n",
    "import matplotlib.animation as animation\n",
    "from scipy.ndimage import measurements\n",
    "from pylab import *"
   ]
  },
  {
   "cell_type": "code",
   "execution_count": 5,
   "metadata": {},
   "outputs": [],
   "source": [
    "# Our modules\n",
    "import demos.ca.cellular_automata as ca\n",
    "from demos.network.network import Network"
   ]
  },
  {
   "cell_type": "markdown",
   "metadata": {},
   "source": [
    "## Seed"
   ]
  },
  {
   "cell_type": "code",
   "execution_count": 6,
   "metadata": {},
   "outputs": [],
   "source": [
    "np.random.seed(42)"
   ]
  },
  {
   "cell_type": "markdown",
   "metadata": {},
   "source": [
    "---\n",
    "## 1. Phase Diagram for Circular Social Space\n",
    "***Original file***: diagram_1_complete.py\n"
   ]
  },
  {
   "cell_type": "code",
   "execution_count": 7,
   "metadata": {},
   "outputs": [],
   "source": [
    "# Diagram parameters\n",
    "NUMBER_OF_SL_VALUES_TO_TEST = 5 #10\n",
    "SIMS_PER_SL_VALUE = 3 #10\n",
    "NUMBER_OF_P1_VALUES_PER_SL = 3 # For the deterministic case\n",
    "TEMPERATURE_VALUES_PER_SL = 3\n",
    "TMAX = 100\n",
    "\n",
    "# Global CA parameters\n",
    "GRIDSIZE_X,GRIDSIZE_Y = 25,25\n",
    "TIMESTEPS = 50\n",
    "TEMP = 0\n",
    "BETA = 1\n",
    "BETA_LEADER = 1\n",
    "H = 0\n",
    "P_OCCUPATION = 1\n",
    "P_OPINION_1 = 0\n",
    "a_0 = 1 # Size of initial cluster around leader\n",
    "S_MEAN = 1"
   ]
  },
  {
   "cell_type": "code",
   "execution_count": 8,
   "metadata": {},
   "outputs": [
    {
     "name": "stderr",
     "output_type": "stream",
     "text": [
      "c:\\Users\\Pablo\\Desktop\\CSS\\Project\\complex-systems-project\\demos\\ca\\cellular_automata.py:491: RuntimeWarning: invalid value encountered in sqrt\n",
      "  np.sqrt((2*np.pi*r - np.sqrt(np.pi) - beta - h)**2 - 32 * s_l))\n"
     ]
    }
   ],
   "source": [
    "# Compute analytical values\n",
    "R = GRIDSIZE_X/2\n",
    "S_L_min = ca.minimun_leader_strength(R,BETA,H)\n",
    "S_L_max = ca.maximun_leader_strength(R,BETA,H)\n",
    "cluster_min = ca.a(R,BETA,H,S_L_min)\n",
    "cluster_max = ca.a(R,BETA,H,S_L_max)\n",
    "xmin,xmax = 0,2*S_L_max\n",
    "ymin,ymax = 0,22.5\n",
    "\n",
    "# Prepare data structures of iterating values\n",
    "SL_values = np.linspace(0,2*S_L_max,NUMBER_OF_SL_VALUES_TO_TEST)\n",
    "p_1_values = np.linspace(0,1,NUMBER_OF_P1_VALUES_PER_SL)\n",
    "temperatures = np.linspace(0,TMAX,TEMPERATURE_VALUES_PER_SL) # Ignore the first value, T=0\n",
    "\n",
    "# Prepare data structures of results\n",
    "points_x_stoc = np.zeros(NUMBER_OF_SL_VALUES_TO_TEST*TEMPERATURE_VALUES_PER_SL*SIMS_PER_SL_VALUE)\n",
    "points_y_stoc = np.zeros(NUMBER_OF_SL_VALUES_TO_TEST*TEMPERATURE_VALUES_PER_SL*SIMS_PER_SL_VALUE)\n",
    "points_t_stoc = np.zeros(NUMBER_OF_SL_VALUES_TO_TEST*TEMPERATURE_VALUES_PER_SL*SIMS_PER_SL_VALUE)"
   ]
  },
  {
   "cell_type": "code",
   "execution_count": null,
   "metadata": {},
   "outputs": [],
   "source": [
    "# Perform the simulation for all SL\n",
    "for i in range(NUMBER_OF_SL_VALUES_TO_TEST):\n",
    "    S_LEADER = SL_values[i]\n",
    "    print(f'SL value: {i+1}/{NUMBER_OF_SL_VALUES_TO_TEST}')\n",
    "\n",
    "    # And all temperatures, which includes t=0\n",
    "    for j in range(TEMPERATURE_VALUES_PER_SL):\n",
    "        TEMP = temperatures[j]\n",
    "\n",
    "        print('T',TEMP)\n",
    "\n",
    "        # And many times per temperature\n",
    "        for k in range(SIMS_PER_SL_VALUE):\n",
    "            model = ca.CA(gridsize_x=GRIDSIZE_X, gridsize_y=GRIDSIZE_Y, temp=TEMP, beta_leader=BETA_LEADER, beta=BETA, h=H, p_occupation=P_OCCUPATION, p_opinion_1=P_OPINION_1, s_leader=S_LEADER, s_mean=S_MEAN)\n",
    "            data = model.evolve(TIMESTEPS)\n",
    "            last_cluster_size = np.mean(data['cluster_sizes'])\n",
    "            \n",
    "            # Compute index of current simulation\n",
    "            index = i*NUMBER_OF_SL_VALUES_TO_TEST + j*TEMPERATURE_VALUES_PER_SL + k*SIMS_PER_SL_VALUE\n",
    "            \n",
    "            # Save the data\n",
    "            points_x_stoc[index] = S_LEADER\n",
    "            points_y_stoc[index] = last_cluster_size\n",
    "            points_t_stoc[index] = TEMP\n"
   ]
  },
  {
   "cell_type": "code",
   "execution_count": null,
   "metadata": {},
   "outputs": [],
   "source": [
    "# Save the results in separate files\n",
    "np.savetxt('./figures/diagram1_points_slvalues.npy',points_x_stoc,delimiter=\",\")\n",
    "np.savetxt('./figures/diagram1_points_clustersize.npy',points_x_stoc,delimiter=\",\")\n",
    "np.savetxt('./figures/diagram1_points_temperatures.npy',points_x_stoc,delimiter=\",\")"
   ]
  },
  {
   "cell_type": "code",
   "execution_count": 9,
   "metadata": {},
   "outputs": [
    {
     "data": {
      "image/png": "[encoded data removed]",
      "text/plain": [
       "<Figure size 640x480 with 1 Axes>"
      ]
     },
     "metadata": {},
     "output_type": "display_data"
    }
   ],
   "source": [
    "# Plotting\n",
    "\n",
    "# Get the plot of the analytical equations\n",
    "fig, ax = ca.plot_diagram(R,BETA,H)\n",
    "\n",
    "# Add the simulation points\n",
    "ax.scatter(points_x_stoc, points_y_stoc,label='T>0', facecolors='none', edgecolors='red')\n",
    "\n",
    "# Update the axis limits\n",
    "ax.set_xlim(0,2*S_L_max)\n",
    "ax.set_ylim(0,int(R)+1)\n",
    "\n",
    "plt.grid()\n",
    "plt.legend()\n",
    "plt.tight_layout()\n",
    "plt.savefig('./figures/diagram1_points_temperatures.png')\n",
    "plt.show(block=True)"
   ]
  },
  {
   "cell_type": "markdown",
   "metadata": {},
   "source": [
    "---\n",
    "## 2. Overcoming leader"
   ]
  },
  {
   "cell_type": "markdown",
   "metadata": {},
   "source": [
    "### 2.1 Critical temperature threshold\n",
    "***Original file***: threshold_plot.py "
   ]
  },
  {
   "cell_type": "code",
   "execution_count": 11,
   "metadata": {},
   "outputs": [],
   "source": [
    "# Diagram parameters\n",
    "NUMBER_OF_T_VALUES_TO_TEST = 5 # Should be 20\n",
    "SIMS_PER_T_VALUE = 5 # Should be 30 for final one!\n",
    "T_MAX = 100\n",
    "S_LEADER = 400             # May need to tweak this to ensure we are on cluster region!\n",
    "\n",
    "# Global CA parameters\n",
    "GRIDSIZE_X,GRIDSIZE_Y = 15,15\n",
    "TIMESTEPS = 20\n",
    "BETA = 1\n",
    "BETA_LEADER = 1\n",
    "H = 0\n",
    "P_OCCUPATION = 1\n",
    "P_OPINION_1 = 1 # In this scenario everybody believes the leader at start\n",
    "a_0 = 1\n",
    "S_MEAN = 1"
   ]
  },
  {
   "cell_type": "code",
   "execution_count": 12,
   "metadata": {},
   "outputs": [],
   "source": [
    "# Compute analytical values\n",
    "R = GRIDSIZE_X/2\n",
    "THRESHOLD =  int(np.sqrt((R**2)/2)) #5 # Run again with dynamic! threshold # Maximun leader cluster radius that is not considered opinion overcomming\n",
    "S_L_min = ca.minimun_leader_strength(R,BETA,H)\n",
    "S_L_max = ca.maximun_leader_strength(R,BETA,H)\n",
    "cluster_min = ca.a(R,BETA,H,S_L_min)\n",
    "cluster_max = ca.a(R,BETA,H,S_L_max)\n",
    "xmin,xmax = 0,2*S_L_max\n",
    "ymin,ymax = 0,22.5"
   ]
  },
  {
   "cell_type": "code",
   "execution_count": 13,
   "metadata": {},
   "outputs": [],
   "source": [
    "# Save parameters in a file\n",
    "params_used = {'NUMBER_OF_T_VALUES_TO_TEST':NUMBER_OF_T_VALUES_TO_TEST,\n",
    "               'SIMS_PER_T_VALUE':SIMS_PER_T_VALUE,\n",
    "               'T_MAX':T_MAX,\n",
    "               'THRESHOLD':THRESHOLD,\n",
    "               'S_LEADER':S_LEADER,\n",
    "               'GRIDSIZE_X': 21,\n",
    "               'GRIDSIZE_Y':21,\n",
    "               'TIMESTEPS':TIMESTEPS,\n",
    "               'BETA':BETA,\n",
    "               'BETA_LEADER':BETA_LEADER,\n",
    "               'H':H,\n",
    "               'P_OCCUPATION':P_OCCUPATION,\n",
    "               'P_OPINION_1':P_OPINION_1,\n",
    "               'a_0':a_0,\n",
    "               'S_MEAN':S_MEAN,\n",
    "               'R':R,\n",
    "               'S_L_min':S_L_min,\n",
    "               'S_L_max':S_L_max,\n",
    "               'cluster_min':cluster_min,\n",
    "               'cluster_max':cluster_max,\n",
    "               'xmin':xmin,\n",
    "               'xmax':xmax,\n",
    "               'ymin':ymin,\n",
    "               'ymax':ymax\n",
    "               }\n",
    "\n",
    "with open('./figures/t_threshold_plot_params.csv', 'w') as f:\n",
    "    w = csv.DictWriter(f, params_used.keys())\n",
    "    w.writeheader()\n",
    "    w.writerow(params_used)"
   ]
  },
  {
   "cell_type": "code",
   "execution_count": 14,
   "metadata": {},
   "outputs": [
    {
     "name": "stderr",
     "output_type": "stream",
     "text": [
      "100%|██████████| 20/20 [00:01<00:00, 17.84it/s]\n"
     ]
    },
    {
     "data": {
      "image/png": "[encoded data removed]",
      "text/plain": [
       "<Figure size 640x480 with 1 Axes>"
      ]
     },
     "metadata": {},
     "output_type": "display_data"
    },
    {
     "data": {
      "image/png": "[encoded data removed]",
      "text/plain": [
       "<Figure size 640x480 with 1 Axes>"
      ]
     },
     "metadata": {},
     "output_type": "display_data"
    }
   ],
   "source": [
    "# Perform one test simulation first to ensure we are in he cluster region of the system\n",
    "TEMP = 0\n",
    "\n",
    "model = ca.CA(gridsize_x=GRIDSIZE_X, gridsize_y=GRIDSIZE_Y, temp=TEMP, beta=BETA, beta_leader=BETA_LEADER, h=H, p_occupation=P_OCCUPATION, p_opinion_1=P_OPINION_1, s_leader=S_LEADER, s_mean=S_MEAN, show_tqdm=True)\n",
    "data = model.evolve(TIMESTEPS)\n",
    "\n",
    "simulation = data['opinions']\n",
    "cluster_sizes = data['cluster_sizes']\n",
    "last_cluster = cluster_sizes[-1]\n",
    "\n",
    "# Do diagram plot with the last cluster to ensure we are in the right region\n",
    "fig, ax = ca.plot_diagram(R,BETA,H)\n",
    "ax.set_xlim(0,2*S_L_max)\n",
    "ax.set_ylim(0,int(R)+1)\n",
    "ax.scatter(S_LEADER,last_cluster)\n",
    "\n",
    "# Show and save plot\n",
    "plt.grid()\n",
    "plt.tight_layout()\n",
    "plt.savefig('./figures/t_threshold_plot_start_analyticall.png')\n",
    "plt.show(block=True)\n",
    "\n",
    "# Show starting grid to ensure everybody starts believing the leader\n",
    "fig, ax = plt.subplots()\n",
    "grid_t = simulation[-1,:,:]\n",
    "im = ax.imshow(grid_t, cmap='seismic',\n",
    "                interpolation='nearest', vmin=-1, vmax=1)\n",
    "\n",
    "plt.tight_layout()\n",
    "plt.savefig('./figures/t_threshold_plot_start_grid.png')\n",
    "plt.show()"
   ]
  },
  {
   "cell_type": "code",
   "execution_count": 15,
   "metadata": {},
   "outputs": [],
   "source": [
    "# Prepare data structures\n",
    "temperatures = np.linspace(0,T_MAX,NUMBER_OF_T_VALUES_TO_TEST)\n",
    "p_overcoming_leader = np.zeros(NUMBER_OF_T_VALUES_TO_TEST)\n",
    "means =  np.zeros(NUMBER_OF_T_VALUES_TO_TEST)\n",
    "std_devs = np.zeros(NUMBER_OF_T_VALUES_TO_TEST)"
   ]
  },
  {
   "cell_type": "code",
   "execution_count": 16,
   "metadata": {},
   "outputs": [
    {
     "name": "stdout",
     "output_type": "stream",
     "text": [
      "Sim 1/5\n"
     ]
    },
    {
     "name": "stderr",
     "output_type": "stream",
     "text": [
      "100%|██████████| 20/20 [00:01<00:00, 16.48it/s]\n",
      "100%|██████████| 20/20 [00:01<00:00, 18.59it/s]\n",
      "100%|██████████| 20/20 [00:01<00:00, 18.11it/s]\n",
      "100%|██████████| 20/20 [00:01<00:00, 17.42it/s]\n",
      "100%|██████████| 20/20 [00:02<00:00,  7.45it/s]\n"
     ]
    },
    {
     "name": "stdout",
     "output_type": "stream",
     "text": [
      "Sim 2/5\n"
     ]
    },
    {
     "name": "stderr",
     "output_type": "stream",
     "text": [
      "100%|██████████| 20/20 [00:01<00:00, 15.78it/s]\n",
      "100%|██████████| 20/20 [00:01<00:00, 17.35it/s]\n",
      "100%|██████████| 20/20 [00:02<00:00,  8.27it/s]\n",
      "100%|██████████| 20/20 [00:01<00:00, 13.00it/s]\n",
      "100%|██████████| 20/20 [00:02<00:00,  9.89it/s]\n"
     ]
    },
    {
     "name": "stdout",
     "output_type": "stream",
     "text": [
      "Sim 3/5\n"
     ]
    },
    {
     "name": "stderr",
     "output_type": "stream",
     "text": [
      "100%|██████████| 20/20 [00:01<00:00, 17.90it/s]\n",
      "100%|██████████| 20/20 [00:01<00:00, 18.00it/s]\n",
      "100%|██████████| 20/20 [00:02<00:00,  8.52it/s]\n",
      "100%|██████████| 20/20 [00:01<00:00, 18.53it/s]\n",
      "100%|██████████| 20/20 [00:01<00:00, 18.55it/s]\n"
     ]
    },
    {
     "name": "stdout",
     "output_type": "stream",
     "text": [
      "Sim 4/5\n"
     ]
    },
    {
     "name": "stderr",
     "output_type": "stream",
     "text": [
      "100%|██████████| 20/20 [00:02<00:00,  9.29it/s]\n",
      "100%|██████████| 20/20 [00:01<00:00, 16.78it/s]\n",
      "100%|██████████| 20/20 [00:01<00:00, 16.20it/s]\n",
      "100%|██████████| 20/20 [00:02<00:00,  9.41it/s]\n",
      "100%|██████████| 20/20 [00:01<00:00, 16.22it/s]\n"
     ]
    },
    {
     "name": "stdout",
     "output_type": "stream",
     "text": [
      "Sim 5/5\n"
     ]
    },
    {
     "name": "stderr",
     "output_type": "stream",
     "text": [
      "100%|██████████| 20/20 [00:01<00:00, 16.24it/s]\n",
      "100%|██████████| 20/20 [00:01<00:00, 10.43it/s]\n",
      "100%|██████████| 20/20 [00:01<00:00, 13.20it/s]\n",
      "100%|██████████| 20/20 [00:01<00:00, 17.42it/s]\n",
      "100%|██████████| 20/20 [00:01<00:00, 12.64it/s]\n"
     ]
    }
   ],
   "source": [
    "# Simulate\n",
    "for index in range(NUMBER_OF_T_VALUES_TO_TEST):\n",
    "    TEMP = temperatures[index]\n",
    "    leader_overcomed = 0\n",
    "    last_cluster_sizes = np.zeros(SIMS_PER_T_VALUE)\n",
    "    print(f'Sim {index+1}/{NUMBER_OF_T_VALUES_TO_TEST}')\n",
    "    \n",
    "    for sim in range(SIMS_PER_T_VALUE):\n",
    "        model = ca.CA(gridsize_x=GRIDSIZE_X, gridsize_y=GRIDSIZE_Y, temp=TEMP, beta=BETA, beta_leader=BETA_LEADER, h=H, p_occupation=P_OCCUPATION, p_opinion_1=P_OPINION_1, s_leader=S_LEADER, s_mean=S_MEAN, show_tqdm=True)\n",
    "        data = model.evolve(TIMESTEPS)\n",
    "        last_cluster_size = data['cluster_sizes'][-1]\n",
    "        \n",
    "        # Save to make std dev\n",
    "        last_cluster_sizes[sim] = last_cluster_size\n",
    "\n",
    "        # Check if unification was overcomed!\n",
    "        if last_cluster_size <= THRESHOLD:\n",
    "            leader_overcomed += 1\n",
    "    \n",
    "    # Compute probability of overcoming leader\n",
    "    p_overcoming_leader[index] = leader_overcomed / SIMS_PER_T_VALUE\n",
    "\n",
    "    # The std dev is the std dev in the distrib that has leader_overcomed 1s and the other elements 0s\n",
    "    runs = np.zeros(SIMS_PER_T_VALUE)\n",
    "    runs[:leader_overcomed] = 1\n",
    "    std_devs[index] = np.std(runs)\n",
    "\n",
    "    mean = np.mean(runs)\n",
    "    means[index] = mean\n"
   ]
  },
  {
   "cell_type": "code",
   "execution_count": 17,
   "metadata": {},
   "outputs": [
    {
     "name": "stdout",
     "output_type": "stream",
     "text": [
      "[0.  0.  0.2 0.6 0.8]\n",
      "[0.  0.  0.2 0.6 0.8]\n",
      "[0.         0.         0.4        0.48989795 0.4       ]\n"
     ]
    }
   ],
   "source": [
    "# Print and save results\n",
    "print(p_overcoming_leader)\n",
    "print(means)\n",
    "print(std_devs)"
   ]
  },
  {
   "cell_type": "code",
   "execution_count": 18,
   "metadata": {},
   "outputs": [],
   "source": [
    "# Save the data\n",
    "np.savetxt('./figures/t_threshold_plot_temperatures.npy',temperatures,delimiter=\",\")\n",
    "np.savetxt('./figures/t_threshold_plot_tp_overcoming_leader.npy',p_overcoming_leader,delimiter=\",\")\n",
    "np.savetxt('./figures/t_threshold_plot_means.npy',means,delimiter=\",\")\n",
    "np.savetxt('./figures/t_threshold_plot_std_devs.npy',std_devs,delimiter=\",\")"
   ]
  },
  {
   "cell_type": "code",
   "execution_count": 19,
   "metadata": {},
   "outputs": [
    {
     "data": {
      "image/png": "[encoded data removed]",
      "text/plain": [
       "<Figure size 640x480 with 1 Axes>"
      ]
     },
     "metadata": {},
     "output_type": "display_data"
    }
   ],
   "source": [
    "# Plot and save the threshold phenomena\n",
    "plt.figure()\n",
    "plt.plot(temperatures,p_overcoming_leader,lw=2,c='blue')\n",
    "plt.fill_between(temperatures, np.array(means)-np.array(std_devs), np.array(means)+np.array(std_devs), alpha=0.3)\n",
    "\n",
    "plt.xlim([0,T_MAX])\n",
    "plt.ylim([0,1])\n",
    "\n",
    "plt.suptitle('Effect of temperature on overcoming leader consensus')\n",
    "plt.title(f'R={R}, {SIMS_PER_T_VALUE} runs/T, T_MAX={T_MAX},THRESHOLD={THRESHOLD}')\n",
    "plt.xlabel('Temperature')\n",
    "plt.ylabel('p(Overcoming leader)')\n",
    "\n",
    "plt.grid()\n",
    "plt.tight_layout()\n",
    "plt.savefig('./figures/t_threshold_plot.png')\n",
    "plt.show()"
   ]
  },
  {
   "cell_type": "markdown",
   "metadata": {},
   "source": [
    "---\n",
    "## 3. Self-organized Criticality"
   ]
  },
  {
   "cell_type": "code",
   "execution_count": 22,
   "metadata": {},
   "outputs": [],
   "source": [
    "# Step 0 - Find the critical temperature of the system\n",
    "# Step 1 - Set the system to the critical temperature\n",
    "TIMESTEPS = 250 # 2000\n",
    "critical_temperature = 50 #30\n",
    "\n",
    "# Step 2 - Set system to the parameters used to find the critical temperature\n",
    "GRIDSIZE_X,GRIDSIZE_Y = 25,25\n",
    "#TIMESTEPS = 2000\n",
    "#TEMPERATURE = 0\n",
    "BETA_PEOPLE = 1\n",
    "BETA_LEADER = 1\n",
    "H = 0\n",
    "p = 1\n",
    "p_1 = 1 # In this scenario everybody believed the leader at start for calibration, but here in simulation we dont need it anymore!!!\n",
    "\n",
    "INFLUENCE_LEADER = 100             # The one \n",
    "a_0 = 1\n",
    "INFLUENCE_DISTRIBUTION_MEAN = 1\n",
    "\n"
   ]
  },
  {
   "cell_type": "code",
   "execution_count": 23,
   "metadata": {},
   "outputs": [
    {
     "name": "stderr",
     "output_type": "stream",
     "text": [
      "100%|██████████| 250/250 [02:12<00:00,  1.88it/s]\n"
     ]
    }
   ],
   "source": [
    "# Step 3 - Simulate system at this critical temperature\n",
    "temperature = critical_temperature\n",
    "model = ca.CA(GRIDSIZE_X, GRIDSIZE_Y, p, p_1, critical_temperature, H, BETA_PEOPLE, BETA_LEADER, INFLUENCE_DISTRIBUTION_MEAN, INFLUENCE_LEADER, 'euclidean', 'linear', 1, 'uniform', True)\n",
    "data = model.evolve(TIMESTEPS)"
   ]
  },
  {
   "cell_type": "code",
   "execution_count": 25,
   "metadata": {},
   "outputs": [],
   "source": [
    "# Save data\n",
    "np.save('./figures/SOC_sim.npy', np.array(data))\n",
    "np.save('./figures/SOC_sim_opinions.npy', data['opinions'])\n",
    "np.save('./figures/SOC_sim_cluster_sizes.npy', data['cluster_sizes'])\n",
    "\n",
    "with open('./figures/SOC_sim.csv', 'w') as f:  # You will need 'wb' mode in Python 2.x\n",
    "    w = csv.DictWriter(f, data.keys())\n",
    "    w.writeheader()\n",
    "    w.writerow(data)\n",
    "\n",
    "\n",
    "params_used = {\n",
    "               'CRITICAL_TEMPERATURE':critical_temperature,\n",
    "               'TIMESTEPS':TIMESTEPS,\n",
    "               'S_LEADER':INFLUENCE_LEADER,\n",
    "               'GRIDSIZE_X': GRIDSIZE_X,\n",
    "               'GRIDSIZE_Y': GRIDSIZE_Y,\n",
    "               'TIMESTEPS':TIMESTEPS,\n",
    "               'BETA_PEOPLE':BETA_PEOPLE,\n",
    "               'BETA_LEADER':BETA_LEADER,\n",
    "               'INFLUENCE_LEADER':INFLUENCE_LEADER,\n",
    "               'H':H,\n",
    "               'P_OCCUPATION':p,\n",
    "               'P_OPINION_1':p_1,\n",
    "               'a_0':a_0,\n",
    "               'S_MEAN':INFLUENCE_DISTRIBUTION_MEAN,\n",
    "               'N':model.N\n",
    "               }\n",
    "\n",
    "with open('./figures/SOC_params.csv', 'w') as f:  # You will need 'wb' mode in Python 2.x\n",
    "    w = csv.DictWriter(f, params_used.keys())\n",
    "    w.writeheader()\n",
    "    w.writerow(params_used)\n"
   ]
  },
  {
   "cell_type": "code",
   "execution_count": 26,
   "metadata": {},
   "outputs": [
    {
     "name": "stderr",
     "output_type": "stream",
     "text": [
      "INFO:matplotlib.animation:Animation.save using <class 'matplotlib.animation.PillowWriter'>\n"
     ]
    }
   ],
   "source": [
    "# Step 4 - Plot opinion change at this temperature\n",
    "data_copy = data.copy()\n",
    "model.plot_opinion_grid_evolution(data_copy,save=True)"
   ]
  },
  {
   "cell_type": "code",
   "execution_count": null,
   "metadata": {},
   "outputs": [],
   "source": [
    "# Step 5 - Get cluster sizes from simulation,\n",
    "# Testing the counting at 5fth time step \n",
    "\n",
    "# Prepare arrays to only count -1 opinions\n",
    "R = int(GRIDSIZE_X/2)\n",
    "opinions = data_copy['opinions'][5].copy()\n",
    "opinions[opinions == 1] = 0\n",
    "opinions[opinions == -1] = 1\n",
    "\n",
    "lw, num_cluster = measurements.label(opinions)\n",
    "areas = measurements.sum(opinions, lw, index=arange(lw.max() + 1))\n",
    "unique, counts = np.unique(areas, return_counts=True)\n",
    "print('Unique values and counts',unique,counts)\n"
   ]
  },
  {
   "cell_type": "code",
   "execution_count": null,
   "metadata": {},
   "outputs": [],
   "source": [
    "# Step 6 - Plot them to see if their sizes follow power law\n",
    "plt.scatter(unique,counts,facecolors='none', edgecolors='blue')"
   ]
  },
  {
   "cell_type": "code",
   "execution_count": null,
   "metadata": {},
   "outputs": [],
   "source": [
    "# Same thing but with entire simulation\n",
    "data_copy = data.copy()\n",
    "sim_data = data_copy.copy()\n",
    "\n",
    "total_unique = np.linspace(1,model.N,model.N)\n",
    "total_counts = np.zeros(model.N).astype(int)\n",
    "\n",
    "#print('Total counts',total_counts)\n",
    "\n",
    "for time_step in range(TIMESTEPS):\n",
    "    data_t = sim_data['opinions'][time_step, :, :].copy()\n",
    "    data_t[data_t == 1] = 0\n",
    "    data_t[data_t == -1] = 1\n",
    "\n",
    "    lw, num_cluster = measurements.label(data_t)\n",
    "    areas = measurements.sum(data_t, lw, index=arange(lw.max() + 1))\n",
    "    unique, counts = np.unique(areas, return_counts=True)\n",
    "\n",
    "    unique = unique.astype(int)\n",
    "    counts = counts.astype(int)\n",
    "\n",
    "    # Update the total_counts at those locations\n",
    "    #np.take(total_counts, unique)\n",
    "    # https://numpy.org/doc/stable/reference/generated/numpy.put.html\n",
    "    np.put(total_counts,unique,np.take(total_counts, unique) + counts) # Should be counts+previous value\n",
    "\n",
    "\n",
    "d=total_counts\n",
    "fit = powerlaw.Fit(np.array(d)+1,xmin=1,discrete=True)\n",
    "fit.power_law.plot_pdf( color= 'b',linestyle='--',label='fit ccdf')\n",
    "fit.plot_pdf( color= 'b')\n",
    "\n",
    "print(fit)\n",
    "print('alpha= ',fit.power_law.alpha,'  sigma= ',fit.power_law.sigma)\n"
   ]
  },
  {
   "cell_type": "code",
   "execution_count": null,
   "metadata": {},
   "outputs": [],
   "source": [
    "plt.loglog(total_unique,total_counts)\n",
    "print(total_counts)"
   ]
  },
  {
   "cell_type": "code",
   "execution_count": null,
   "metadata": {},
   "outputs": [],
   "source": [
    "# Orignal file: SOC_plot.py"
   ]
  },
  {
   "cell_type": "markdown",
   "metadata": {},
   "source": [
    "---\n",
    "## 4. Low temperature mean-field approximation "
   ]
  },
  {
   "cell_type": "code",
   "execution_count": null,
   "metadata": {},
   "outputs": [],
   "source": []
  },
  {
   "cell_type": "markdown",
   "metadata": {},
   "source": [
    "---\n",
    "## 5. Network / CA equivalency"
   ]
  },
  {
   "cell_type": "code",
   "execution_count": 9,
   "metadata": {},
   "outputs": [],
   "source": [
    "# Set parameters\n",
    "GRIDSIZE_X,GRIDSIZE_Y = 21,21\n",
    "TIMESTEPS = 30\n",
    "TEMP = 10\n",
    "BETA = 1\n",
    "BETA_LEADER = 1\n",
    "H = 0\n",
    "P_OCCUPATION = 1\n",
    "P_OPINION_1 = 1\n",
    "\n",
    "#Grid\n",
    "S_LEADER = 150  # Leader influence\n",
    "S_MEAN = 1\n",
    "\n",
    "#Barabasi-Albert\n",
    "C_LEADER = 20"
   ]
  },
  {
   "cell_type": "code",
   "execution_count": 10,
   "metadata": {},
   "outputs": [
    {
     "ename": "NameError",
     "evalue": "name 'Network' is not defined",
     "output_type": "error",
     "traceback": [
      "\u001b[0;31m---------------------------------------------------------------------------\u001b[0m",
      "\u001b[0;31mNameError\u001b[0m                                 Traceback (most recent call last)",
      "Cell \u001b[0;32mIn[10], line 4\u001b[0m\n\u001b[1;32m      1\u001b[0m \u001b[38;5;66;03m# First we model the network as a grid with both T=0, T=25\u001b[39;00m\n\u001b[1;32m      3\u001b[0m NETWORK_TYPE \u001b[38;5;241m=\u001b[39m \u001b[38;5;124m'\u001b[39m\u001b[38;5;124mgrid\u001b[39m\u001b[38;5;124m'\u001b[39m\n\u001b[0;32m----> 4\u001b[0m network \u001b[38;5;241m=\u001b[39m Network(gridsize_x\u001b[38;5;241m=\u001b[39mGRIDSIZE_X, gridsize_y\u001b[38;5;241m=\u001b[39mGRIDSIZE_Y, temp\u001b[38;5;241m=\u001b[39mTEMP, beta\u001b[38;5;241m=\u001b[39mBETA, beta_leader\u001b[38;5;241m=\u001b[39mBETA_LEADER, h\u001b[38;5;241m=\u001b[39mH, p_occupation\u001b[38;5;241m=\u001b[39mP_OCCUPATION, p_opinion_1\u001b[38;5;241m=\u001b[39mP_OPINION_1, s_leader\u001b[38;5;241m=\u001b[39mS_LEADER, s_mean\u001b[38;5;241m=\u001b[39mS_MEAN , network_type \u001b[38;5;241m=\u001b[39m NETWORK_TYPE, c_leader \u001b[38;5;241m=\u001b[39m C_LEADER)\n\u001b[1;32m      5\u001b[0m data \u001b[38;5;241m=\u001b[39m network\u001b[38;5;241m.\u001b[39mevolve(TIMESTEPS)\n\u001b[1;32m      6\u001b[0m network\u001b[38;5;241m.\u001b[39mplot_opinion_network_evolution(data, interval\u001b[38;5;241m=\u001b[39m\u001b[38;5;241m250\u001b[39m)\n",
      "\u001b[0;31mNameError\u001b[0m: name 'Network' is not defined"
     ]
    }
   ],
   "source": [
    "# First we model the network as a grid with both T=0, T=25\n",
    "\n",
    "NETWORK_TYPE = 'grid'\n",
    "network = Network(gridsize_x=GRIDSIZE_X, gridsize_y=GRIDSIZE_Y, temp=TEMP, beta=BETA, beta_leader=BETA_LEADER, h=H, p_occupation=P_OCCUPATION, p_opinion_1=P_OPINION_1, s_leader=S_LEADER, s_mean=S_MEAN , network_type = NETWORK_TYPE, c_leader = C_LEADER)\n",
    "data = network.evolve(TIMESTEPS)\n",
    "network.plot_opinion_network_evolution(data, interval=250)\n",
    "plt.show()"
   ]
  },
  {
   "cell_type": "markdown",
   "metadata": {},
   "source": [
    "---\n",
    "## 6. Barabasi-Albert Networks"
   ]
  },
  {
   "cell_type": "markdown",
   "metadata": {},
   "source": [
    "---\n",
    "## 7. Leader strength study"
   ]
  },
  {
   "cell_type": "markdown",
   "metadata": {},
   "source": [
    "---\n",
    "## References\n",
    "1. [J. Hołyst, K. Kacperski, F. Schweitzer (2000). Phase transitions in social impact models of opinion formation. Physica A, 285(1–2), 199-210](https://doi.org/10.1016/S0378-4371(00)00282-X)\n",
    "\n",
    "2. \n",
    "Additional references\n",
    "- [Latané, B. (1981). The psychology of social impact. American Psychologist, 36(4), 343–356](https://doi.org/10.1037/0003-066X.36.4.343)\n",
    "- [A. Corbetta, F Toschi (2024). Physics of Human Crowds. Annual Reviews, 14:311-333](https://www.annualreviews.org/doi/10.1146/annurev-conmatphys-031620-100450)\n"
   ]
  }
 ],
 "metadata": {
  "kernelspec": {
   "display_name": "Python 3 (ipykernel)",
   "language": "python",
   "name": "python3"
  },
  "language_info": {
   "codemirror_mode": {
    "name": "ipython",
    "version": 3
   },
   "file_extension": ".py",
   "mimetype": "text/x-python",
   "name": "python",
   "nbconvert_exporter": "python",
   "pygments_lexer": "ipython3",
   "version": "3.10.6"
  }
 },
 "nbformat": 4,
 "nbformat_minor": 4
}
